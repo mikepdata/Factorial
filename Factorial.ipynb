{
 "cells": [
  {
   "cell_type": "markdown",
   "id": "2e6670be",
   "metadata": {},
   "source": [
    "# Factorial\n"
   ]
  },
  {
   "cell_type": "code",
   "execution_count": 1,
   "id": "dce0e830",
   "metadata": {},
   "outputs": [
    {
     "name": "stdout",
     "output_type": "stream",
     "text": [
      "362880\n",
      "1\n",
      "2\n",
      "3\n"
     ]
    }
   ],
   "source": [
    "# factorial\n",
    "product = 1\n",
    "for x in range(1, 10):\n",
    "    product = product * x\n",
    "    \n",
    "print(product)\n",
    "\n",
    "num = 5\n",
    "y = [1, 2, 3]\n",
    "for num in y:\n",
    "   print(num)\n",
    "\n",
    "# print(num)\n"
   ]
  },
  {
   "cell_type": "code",
   "execution_count": null,
   "id": "8fdee345",
   "metadata": {},
   "outputs": [],
   "source": []
  }
 ],
 "metadata": {
  "kernelspec": {
   "display_name": "Python 3 (ipykernel)",
   "language": "python",
   "name": "python3"
  },
  "language_info": {
   "codemirror_mode": {
    "name": "ipython",
    "version": 3
   },
   "file_extension": ".py",
   "mimetype": "text/x-python",
   "name": "python",
   "nbconvert_exporter": "python",
   "pygments_lexer": "ipython3",
   "version": "3.9.13"
  }
 },
 "nbformat": 4,
 "nbformat_minor": 5
}
